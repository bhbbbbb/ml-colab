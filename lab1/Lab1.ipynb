{
  "cells": [
    {
      "cell_type": "markdown",
      "metadata": {
        "id": "oHKEwXFGCwH9"
      },
      "source": [
        "# Class Example"
      ]
    },
    {
      "cell_type": "code",
      "execution_count": null,
      "metadata": {
        "id": "7jGdDEhAHPZN"
      },
      "outputs": [],
      "source": [
        "class shape():\n",
        "  def __init__(self,name=\"t1\"):\n",
        "    self.name=name"
      ]
    },
    {
      "cell_type": "code",
      "execution_count": 6,
      "metadata": {
        "id": "azocUhw9CvZ8"
      },
      "outputs": [],
      "source": [
        "## This is an example of how to use init parameters and call class functions.\n",
        "\n",
        "class Rectangle(shape):\n",
        "    def __init__(self, h=3 , w=4,name=\"t1\"):\n",
        "        super().__init__(name)\n",
        "        self.heigh = h\n",
        "        self.width = w\n",
        "        self.color = []\n",
        "        self.area = self._calc_area()\n",
        "\n",
        "        self.print_info()\n",
        "        self._print_area()\n",
        "\n",
        "    def _calc_area(self):\n",
        "        return self.heigh * self.width\n",
        "\n",
        "    def _print_area(self):\n",
        "        print(\"Area:\", self.area)\n",
        "\n",
        "    def print_info(self):\n",
        "        print(\"Heigh: {}, Width: {}\".format(self.heigh, self.width))\n",
        "        print(\"Color:\", self.color)\n",
        "        \n",
        "    def add_color(self, color):\n",
        "        self.color.append(color)"
      ]
    },
    {
      "cell_type": "code",
      "execution_count": 10,
      "metadata": {
        "colab": {
          "base_uri": "https://localhost:8080/"
        },
        "id": "D4NdJQVaDGvB",
        "outputId": "af8633f2-4b5a-41f7-a5df-c4654fec1fc9"
      },
      "outputs": [
        {
          "name": "stdout",
          "output_type": "stream",
          "text": [
            "Heigh: 5, Width: 4\n",
            "Color: []\n",
            "Area: 20\n"
          ]
        }
      ],
      "source": [
        "r1 = Rectangle(5, 4)"
      ]
    },
    {
      "cell_type": "code",
      "execution_count": 9,
      "metadata": {
        "colab": {
          "base_uri": "https://localhost:8080/"
        },
        "id": "XTp6H0cbY7qc",
        "outputId": "43c61f94-6242-445a-f41e-4b7f4e760884"
      },
      "outputs": [
        {
          "name": "stdout",
          "output_type": "stream",
          "text": [
            "Name:t1\n"
          ]
        }
      ],
      "source": [
        "r1.show_name()"
      ]
    },
    {
      "cell_type": "code",
      "execution_count": null,
      "metadata": {
        "id": "Toe6smlxDNPS"
      },
      "outputs": [],
      "source": [
        "r1.add_color('red')"
      ]
    },
    {
      "cell_type": "code",
      "execution_count": null,
      "metadata": {
        "id": "TQKELOR7DQDM"
      },
      "outputs": [],
      "source": [
        "r1.print_info()"
      ]
    },
    {
      "cell_type": "markdown",
      "metadata": {
        "id": "Mr4sgUaG02uw"
      },
      "source": [
        "## Practice1: Print area"
      ]
    },
    {
      "cell_type": "code",
      "execution_count": null,
      "metadata": {
        "id": "0xzKI4yV02A6"
      },
      "outputs": [],
      "source": [
        "r1._print_area()"
      ]
    },
    {
      "cell_type": "markdown",
      "metadata": {
        "id": "uXWGk1iyzCvS"
      },
      "source": [
        "## Practice 2: Edit class and print perimeter(周長) here\n"
      ]
    },
    {
      "cell_type": "code",
      "execution_count": null,
      "metadata": {
        "id": "UsAxo93-ioSS"
      },
      "outputs": [],
      "source": [
        "class Rectangle():\n",
        "    def __init__(self, h=3 , w=4):\n",
        "\n",
        "        self.heigh = h\n",
        "        self.width = w\n",
        "        self.color = []\n",
        "        self.area = self._calc_area()\n",
        "\n",
        "        self.print_info()\n",
        "        self._print_area()\n",
        "\n",
        "    def _calc_area(self):\n",
        "        return self.heigh * self.width\n",
        "\n",
        "    def _print_area(self):\n",
        "        print(\"Area:\", self.area)\n",
        "\n",
        "    def print_info(self):\n",
        "        print(\"Heigh: {}, Width: {}\".format(self.heigh, self.width))\n",
        "        print(\"Color:\", self.color)\n",
        "        \n",
        "    def add_color(self, color):\n",
        "        self.color.append(color)"
      ]
    },
    {
      "cell_type": "markdown",
      "metadata": {
        "id": "i-THyaeHC9MU"
      },
      "source": [
        "# Start building simple model with Pytorch"
      ]
    },
    {
      "cell_type": "code",
      "execution_count": null,
      "metadata": {
        "id": "skHWl4U6qogb"
      },
      "outputs": [],
      "source": [
        "import torch\n",
        "import torchvision\n",
        "import torchvision.transforms as transforms\n",
        "import numpy as np\n",
        "import matplotlib.pyplot as plt\n",
        "from tqdm.notebook import tqdm"
      ]
    },
    {
      "cell_type": "markdown",
      "metadata": {
        "id": "WjL9yn84tcyr"
      },
      "source": [
        "## Data Loader\n"
      ]
    },
    {
      "cell_type": "code",
      "execution_count": null,
      "metadata": {
        "id": "Zthh2UTfvwmx"
      },
      "outputs": [],
      "source": [
        "transform = transforms.Compose([transforms.ToTensor(),])##\n",
        "\n",
        "# /content/drive/MyDrive/Colab Notebooks/data/MNIST/MNIST/raw/train-images-idx3-ubyte.gz\n",
        "#MNIST 手寫數字辨識集\n",
        "trainset = torchvision.datasets.MNIST(root='/content/drive/MyDrive/Colab Notebooks/data/MNIST', train=True,download=True, transform=transform)\n",
        "trainloader = torch.utils.data.DataLoader(trainset, batch_size=32,shuffle=True, num_workers=2)\n",
        "\n",
        "testset = torchvision.datasets.MNIST(root='/content/drive/MyDrive/Colab Notebooks/data/MNIST', train=False,download=True, transform=transform)\n",
        "testloader = torch.utils.data.DataLoader(testset, batch_size=4,shuffle=True, num_workers=2)\n",
        "\n",
        "classes = ('0', '1', '2', '3',\n",
        "           '4', '5', '6', '7', '8', '9')"
      ]
    },
    {
      "cell_type": "markdown",
      "metadata": {
        "id": "mKnK9AlRvbSd"
      },
      "source": [
        "## Visualize Images"
      ]
    },
    {
      "cell_type": "code",
      "execution_count": null,
      "metadata": {
        "id": "HfXIB94gwjYO"
      },
      "outputs": [],
      "source": [
        "def imshow(img):\n",
        "    npimg = img.numpy()\n",
        "    plt.imshow(np.transpose(npimg, (1, 2, 0)))\n",
        "    #（channels,imagesize,imagesize）=>（imagesize,imagesize,channels）\n",
        "    plt.show()\n",
        "\n",
        "\n",
        "# get some random training images\n",
        "dataiter = iter(trainloader)\n",
        "images, labels = dataiter.next()\n",
        "# show images\n",
        "imshow(torchvision.utils.make_grid(images))\n",
        "# print labels\n",
        "print(' '.join('%5s' % classes[labels[j]] for j in range(32)))"
      ]
    },
    {
      "cell_type": "markdown",
      "metadata": {
        "id": "PC6i_t_7Cb0U"
      },
      "source": [
        "## Build Example Model"
      ]
    },
    {
      "cell_type": "code",
      "execution_count": null,
      "metadata": {
        "id": "riEMG4fKz41f"
      },
      "outputs": [],
      "source": [
        "import torch.nn as nn\n",
        "import torch.nn.functional as F"
      ]
    },
    {
      "cell_type": "code",
      "execution_count": null,
      "metadata": {
        "id": "j_W4F7MKzT-v"
      },
      "outputs": [],
      "source": [
        "## This is an example how to add layer to sequential\n",
        "\n",
        "hidden = torch.nn.Sequential()\n",
        "\n",
        "hidden.add_module(\"Lin1\", torch.nn.Linear(28*28, 128)) # appends a Linear layer to hidden \n",
        "hidden.add_module(\"Lin2\", torch.nn.Linear(128, 64)) \n",
        "hidden.add_module(\"Lin3\", torch.nn.Linear(64 , 10))\n",
        "# hidden.add_module(\"conv_1\", torch.nn.Conv2d(1, 10, kernel_size=5))"
      ]
    },
    {
      "cell_type": "code",
      "execution_count": null,
      "metadata": {
        "id": "SgR6Ai09zm8W"
      },
      "outputs": [],
      "source": [
        "hidden"
      ]
    },
    {
      "cell_type": "code",
      "execution_count": null,
      "metadata": {
        "id": "MvfZxwHe-NYS"
      },
      "outputs": [],
      "source": [
        "\n",
        "## This is an simple example of model building.\n",
        "\n",
        "class Net_D(nn.Module):\n",
        "    def __init__(self):\n",
        "        super().__init__()\n",
        "        self.fc1 = nn.Linear(28*28, 128)\n",
        "        self.fc2 = nn.Linear(128, 64)\n",
        "        self.fc3 = nn.Linear(64 , 10)\n",
        "\n",
        "    def forward(self, x):\n",
        "        x = x.view(-1, 28*28) ## -1 means an unsure number\n",
        "        x = self.fc1(x)\n",
        "        x = self.fc2(x)\n",
        "        x = self.fc3(x)\n",
        "\n",
        "        return x\n",
        "\n",
        "## This is a simple example of model building by Sequential.\n",
        "\n",
        "class Net_Seq(nn.Module):\n",
        "    def __init__(self):\n",
        "        super(Net_Seq, self).__init__()\n",
        "        self.seq = nn.Sequential(\n",
        "            nn.Linear(28*28, 128),\n",
        "            nn.Linear(128, 64),\n",
        "            nn.Linear(64 , 10),\n",
        "            # nn.Linear(64, 32),\n",
        "            # nn.Linear(32, 10)\n",
        "        )\n",
        "\n",
        "    def forward(self, x):\n",
        "        x = x.view(-1, 28*28)\n",
        "        x = self.seq(x)\n",
        "        return x\n",
        "\n",
        "## This is an simple example of model building by init parameters and adding layer.\n",
        "\n",
        "class Net_S(nn.Module):\n",
        "    def __init__(self, n , x):\n",
        "        super(Net_S, self).__init__()\n",
        "        torch.manual_seed(123)\n",
        "        np.random.seed(123)\n",
        "        # Initialize object variables\n",
        "        self.layer = n\n",
        "        self.neurons = x\n",
        "\n",
        "        # build sequential model\n",
        "        self.hid = torch.nn.Sequential()\n",
        "        self.hid.add_module('Lin'+str(1), torch.nn.Linear(28*28, 128)) # appends a Linear layer to hidden \n",
        "        self.hid.add_module(\"Lin2\", torch.nn.Linear(128, 64)) \n",
        "        self.hid.add_module(\"Lin3\", torch.nn.Linear(64 , 10))\n",
        "\n",
        "        # call class function\n",
        "        self._print_layers()\n",
        "\n",
        "    def _print_layers(self):\n",
        "        print(\"number of layer: {}  number of neurons: {}\".format(self.layer, self.neurons))\n",
        "\n",
        "    def forward(self, x):\n",
        "        x = x.view(-1, 28*28)\n",
        "        x = self.hid(x)\n",
        "\n",
        "        return x\n"
      ]
    },
    {
      "cell_type": "code",
      "execution_count": null,
      "metadata": {
        "id": "C348r2zPBmgJ"
      },
      "outputs": [],
      "source": [
        "net0 = hidden\n",
        "print(net0)"
      ]
    },
    {
      "cell_type": "code",
      "execution_count": null,
      "metadata": {
        "id": "9wkKhGZ-Bo_1"
      },
      "outputs": [],
      "source": [
        "net1 = Net_D()\n",
        "print(net1)"
      ]
    },
    {
      "cell_type": "code",
      "execution_count": null,
      "metadata": {
        "id": "DOJ6NjiOBq2d"
      },
      "outputs": [],
      "source": [
        "net2 = Net_Seq()\n",
        "print(net2)\n",
        "net2.train()"
      ]
    },
    {
      "cell_type": "code",
      "execution_count": null,
      "metadata": {
        "id": "8MjCtnV6BsCu"
      },
      "outputs": [],
      "source": [
        "net3 =  Net_S(5, 3)\n",
        "print(net3)"
      ]
    },
    {
      "cell_type": "markdown",
      "metadata": {
        "id": "GJv2nnwqCO0U"
      },
      "source": [
        "## Hyper parameters settings"
      ]
    },
    {
      "cell_type": "code",
      "execution_count": null,
      "metadata": {
        "id": "bRD1rEgWCOiN"
      },
      "outputs": [],
      "source": [
        "##############################################\n",
        "# Remember change net to your 'class Net name'!\n",
        "##############################################\n",
        "net =  Net_Seq()\n",
        "\n",
        "## Use GPU\n",
        "device = 'cuda:0' if torch.cuda.is_available() else 'cpu'\n",
        "print(device)\n",
        "net = net.to(device)\n",
        "\n",
        "import torch.optim as optim\n",
        "criterion = nn.CrossEntropyLoss()\n",
        "optimizer = optim.Adam(net.parameters(), lr=0.001)\n",
        "epochs = 5\n",
        "\n",
        "\n",
        "# net.eval()\n",
        "\n",
        "net.train()\n"
      ]
    },
    {
      "cell_type": "markdown",
      "metadata": {
        "id": "3hntx2vYCchH"
      },
      "source": [
        "## Training routine"
      ]
    },
    {
      "cell_type": "code",
      "execution_count": null,
      "metadata": {
        "id": "4iflQiCICgBm"
      },
      "outputs": [],
      "source": [
        "# Training model\n",
        "for epoch in tqdm(range(5)):# loop over the dataset multiple times\n",
        "\n",
        "    running_loss = 0.0\n",
        "    for i, data in enumerate(trainloader, 0):\n",
        "        # get the inputs; data is a list of [inputs, labels]\n",
        "        inputs, labels = data\n",
        "        inputs, labels = inputs.to(device), labels.to(device)\n",
        "        # print(inputs.shape)\n",
        "        # zero the parameter gradients\n",
        "        optimizer.zero_grad()\n",
        "\n",
        "        # forward + backward + optimize\n",
        "        outputs = net(inputs)\n",
        "        loss = criterion(outputs, labels)\n",
        "        loss.backward()\n",
        "        optimizer.step()\n",
        "\n",
        "        # print statistics\n",
        "        running_loss += loss.item()\n",
        "        if i % 1000 == 999:    # print every 1000 mini-batches \n",
        "            print('[%d, %5d] loss: %.6f' %\n",
        "                  (epoch + 1, i + 1, running_loss / 999))\n",
        "            running_loss = 0.0\n",
        "\n",
        "print('Finished Training')\n",
        "\n",
        "\n",
        "\n"
      ]
    },
    {
      "cell_type": "markdown",
      "metadata": {
        "id": "gaMChg8uDAgs"
      },
      "source": [
        "# Testing model"
      ]
    },
    {
      "cell_type": "code",
      "execution_count": null,
      "metadata": {
        "id": "Sm4YXIU16QWz"
      },
      "outputs": [],
      "source": [
        "correct = 0\n",
        "total = 0\n",
        "with torch.no_grad():\n",
        "    for data in testloader:\n",
        "        images, labels = data[0].to(device), data[1].to(device)\n",
        "        outputs = net(images)\n",
        "        _, predicted = torch.max(outputs.data, 1)\n",
        "        total += labels.size(0)\n",
        "        correct += (predicted == labels).sum().item()\n",
        "\n",
        "print('Accuracy of the network on the 10000 test images: %f %%' % (\n",
        "    100 * correct / total))"
      ]
    },
    {
      "cell_type": "markdown",
      "metadata": {
        "id": "cUqxB5kS6UCo"
      },
      "source": [
        "## Show image and compare ground truth and predict result"
      ]
    },
    {
      "cell_type": "code",
      "execution_count": null,
      "metadata": {
        "id": "pOiLtXNuC_c1"
      },
      "outputs": [],
      "source": [
        "dataiter = iter(testloader)\n",
        "images, labels = dataiter.next()\n",
        "imshow(torchvision.utils.make_grid(images))\n",
        "print('GroundTruth: ', ' '.join('%5s' % classes[labels[j]] for j in range(4)))"
      ]
    },
    {
      "cell_type": "code",
      "execution_count": null,
      "metadata": {
        "id": "V_R7jOeGDQ79"
      },
      "outputs": [],
      "source": [
        "dataiter = iter(testloader)\n",
        "images, labels = dataiter.next()\n",
        "imshow(torchvision.utils.make_grid(images))\n",
        "print('GroundTruth: ', ' '.join('%5s' % classes[labels[j]] for j in range(4)))\n",
        "outputs = net(images.to(device))\n",
        "\n",
        "_, predicted = torch.max(outputs, 1)\n",
        "\n",
        "print('Predicted: ', ' '.join('%5s' % classes[predicted[j]]\n",
        "                              for j in range(4)))"
      ]
    },
    {
      "cell_type": "code",
      "execution_count": null,
      "metadata": {
        "id": "FufL69lUDVIN"
      },
      "outputs": [],
      "source": [
        "correct = 0\n",
        "total = 0\n",
        "with torch.no_grad():\n",
        "    for data in testloader:\n",
        "        images, labels = data[0].to(device), data[1].to(device)\n",
        "        outputs = net(images)\n",
        "        _, predicted = torch.max(outputs.data, 1)\n",
        "        total += labels.size(0)\n",
        "        correct += (predicted == labels).sum().item()\n",
        "\n",
        "print('Accuracy of the network on the 10000 test images: %d %%' % (\n",
        "    100 * correct / total))"
      ]
    }
  ],
  "metadata": {
    "colab": {
      "name": "Lab1.ipynb",
      "provenance": [],
      "toc_visible": true
    },
    "kernelspec": {
      "display_name": "Python 3",
      "name": "python3"
    },
    "language_info": {
      "name": "python"
    }
  },
  "nbformat": 4,
  "nbformat_minor": 0
}
