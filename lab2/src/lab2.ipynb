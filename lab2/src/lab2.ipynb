{
 "cells": [
  {
   "cell_type": "markdown",
   "metadata": {},
   "source": [
    "## Setup"
   ]
  },
  {
   "cell_type": "code",
   "execution_count": null,
   "metadata": {},
   "outputs": [],
   "source": [
    "!git clone https://github.com/bhbbbbb/ml-practices.git"
   ]
  },
  {
   "cell_type": "code",
   "execution_count": null,
   "metadata": {},
   "outputs": [],
   "source": [
    "!cd content/ml-practices & git pull "
   ]
  },
  {
   "cell_type": "code",
   "execution_count": null,
   "metadata": {},
   "outputs": [],
   "source": [
    "!pip install -r /content/ml-practices/lab2/src/requirements.txt"
   ]
  },
  {
   "cell_type": "code",
   "execution_count": null,
   "metadata": {},
   "outputs": [],
   "source": [
    "from google.colab import drive\n",
    "drive.mount('/content/drive')\n",
    "COLAB_ROOT = \"/content/drive/MyDrive/colab/hw2/\""
   ]
  },
  {
   "cell_type": "code",
   "execution_count": 3,
   "metadata": {},
   "outputs": [],
   "source": [
    "import sys\n",
    "import os\n",
    "from model.model_utils import ModelUtils\n",
    "from model.dataset import Dataset\n",
    "from model.model import FatLeNet5, Model\n",
    "from hw2.utils import DatasetUtils\n",
    "from hw2.config import Hw2Config\n",
    "\n",
    "DATASET_ROOT  = \"/content/dataset/\"\n",
    "TRAIN_DATASET = os.path.join(DATASET_ROOT, \"train_dataset\")\n",
    "TEST_DATASET  = os.path.join(DATASET_ROOT, \"test_dataset\")\n",
    "TRAIN_CSV     = os.path.join(DATASET_ROOT, \"train.csv\")\n",
    "TEST_CSV      = os.path.join(DATASET_ROOT, \"test.csv\")"
   ]
  },
  {
   "cell_type": "code",
   "execution_count": null,
   "metadata": {},
   "outputs": [],
   "source": [
    "if not os.path.isdir(DATASET_ROOT):\n",
    "    !pip install --upgrade --no-cache-dir gdown\n",
    "    !gdown --id 1hj2zrZI3Nd-C6nlGOE1crgR_gnpoKHQh --output 'dataset.zip'\n",
    "    !unzip -q dataset.zip -d '/content/dataset' # the -d should be the same as DataPath\n",
    "\n",
    "else:\n",
    "    print(\"File already exists.\")"
   ]
  },
  {
   "cell_type": "code",
   "execution_count": null,
   "metadata": {},
   "outputs": [],
   "source": [
    "config = Hw2Config(LOG_DIR = os.path.join(COLAB_ROOT, \"log\"))\n",
    "config.display()"
   ]
  },
  {
   "cell_type": "code",
   "execution_count": null,
   "metadata": {},
   "outputs": [],
   "source": [
    "df, cat = DatasetUtils.load_csv(TRAIN_CSV, TRAIN_DATASET)\n",
    "datasets = Dataset.split(df, split_ratio=[0.7, 0.15], config=config)\n",
    "utils = ModelUtils(model=Model(config), config=config)\n",
    "path = utils.train(datasets, epochs=100)\n",
    "ModelUtils.plot_history(path, utils.root)"
   ]
  }
 ],
 "metadata": {
  "interpreter": {
   "hash": "fc7f54debfa0ced2642815502d19580d9cc5faeb3690fcabf793ce32f40109c8"
  },
  "kernelspec": {
   "display_name": "Python 3.8.12 ('torch')",
   "language": "python",
   "name": "python3"
  },
  "language_info": {
   "codemirror_mode": {
    "name": "ipython",
    "version": 3
   },
   "file_extension": ".py",
   "mimetype": "text/x-python",
   "name": "python",
   "nbconvert_exporter": "python",
   "pygments_lexer": "ipython3",
   "version": "3.8.12"
  },
  "orig_nbformat": 4
 },
 "nbformat": 4,
 "nbformat_minor": 2
}
