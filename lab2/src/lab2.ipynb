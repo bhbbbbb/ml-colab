{
 "cells": [
  {
   "cell_type": "markdown",
   "metadata": {},
   "source": [
    "## Setup"
   ]
  },
  {
   "cell_type": "code",
   "execution_count": null,
   "metadata": {},
   "outputs": [],
   "source": [
    "from google.colab import drive\n",
    "drive.mount('/content/drive')"
   ]
  },
  {
   "cell_type": "code",
   "execution_count": null,
   "metadata": {},
   "outputs": [],
   "source": [
    "import os\n",
    "REPO_ROOT = \"/content/ml-practices\"\n",
    "LAB2_ROOT = os.path.join(REPO_ROOT, \"lab2\", \"src\")\n",
    "DATASET_ROOT = \"/content/dataset\"\n",
    "COLAB_ROOT = \"/content/drive/MyDrive/colab/hw2/\"\n",
    "TRAIN_DATASET = os.path.join(DATASET_ROOT, \"train_dataset\")\n",
    "TEST_DATASET  = os.path.join(DATASET_ROOT, \"test_dataset\")\n",
    "TRAIN_CSV     = os.path.join(DATASET_ROOT, \"train.csv\")\n",
    "TEST_CSV      = os.path.join(DATASET_ROOT, \"test.csv\")\n",
    "os.makedirs(COLAB_ROOT)"
   ]
  },
  {
   "cell_type": "code",
   "execution_count": null,
   "metadata": {},
   "outputs": [],
   "source": [
    "if not os.path.isdir(REPO_ROOT):\n",
    "    !git clone https://github.com/bhbbbbb/ml-practices.git\n",
    "else:\n",
    "    !cd {REPO_ROOT} && git pull "
   ]
  },
  {
   "cell_type": "markdown",
   "metadata": {},
   "source": [
    "### Download dataset"
   ]
  },
  {
   "cell_type": "code",
   "execution_count": null,
   "metadata": {},
   "outputs": [],
   "source": [
    "if not os.path.isdir(TRAIN_DATASET):\n",
    "    !pip install --upgrade --no-cache-dir gdown\n",
    "    !gdown --id 1hj2zrZI3Nd-C6nlGOE1crgR_gnpoKHQh --output 'dataset.zip'\n",
    "    !unzip -q dataset.zip -d '/content/dataset' # the -d should be the same as DataPath\n",
    "\n",
    "else:\n",
    "    print(\"File already exists.\")"
   ]
  },
  {
   "cell_type": "code",
   "execution_count": null,
   "metadata": {},
   "outputs": [],
   "source": [
    "import sys\n",
    "sys.path.append(LAB2_ROOT)\n",
    "from model.model_utils import ModelUtils\n",
    "from model.dataset import Dataset\n",
    "from model.model import FatLeNet5, Model\n",
    "from hw2.utils import DatasetUtils\n",
    "from hw2.config import Hw2Config\n",
    "import torch.cuda\n",
    "assert torch.cuda.is_available()\n",
    "\n",
    "config = Hw2Config()\n",
    "config.display()"
   ]
  },
  {
   "cell_type": "markdown",
   "metadata": {},
   "source": [
    "## Training"
   ]
  },
  {
   "cell_type": "code",
   "execution_count": null,
   "metadata": {},
   "outputs": [],
   "source": [
    "def train(config, model, epochs):\n",
    "    df, cat = DatasetUtils.load_csv(TRAIN_CSV, TRAIN_DATASET)\n",
    "    datasets = Dataset.split(df, split_ratio=[0.7, 0.15], config=config)\n",
    "    utils = ModelUtils(model=model, config=config)\n",
    "    path = utils.train(datasets, epochs=epochs)\n",
    "    ModelUtils.plot_history(path, utils.root)\n",
    "\n",
    "train(config, Model(config), 100)"
   ]
  }
 ],
 "metadata": {
  "interpreter": {
   "hash": "fc7f54debfa0ced2642815502d19580d9cc5faeb3690fcabf793ce32f40109c8"
  },
  "kernelspec": {
   "display_name": "Python 3.8.12 ('torch')",
   "language": "python",
   "name": "python3"
  },
  "language_info": {
   "codemirror_mode": {
    "name": "ipython",
    "version": 3
   },
   "file_extension": ".py",
   "mimetype": "text/x-python",
   "name": "python",
   "nbconvert_exporter": "python",
   "pygments_lexer": "ipython3",
   "version": "3.8.12"
  },
  "orig_nbformat": 4
 },
 "nbformat": 4,
 "nbformat_minor": 2
}
