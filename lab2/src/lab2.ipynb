{
 "cells": [
  {
   "cell_type": "code",
   "execution_count": null,
   "metadata": {},
   "outputs": [],
   "source": [
    "!git clone https://github.com/bhbbbbb/ml-practices.git"
   ]
  },
  {
   "cell_type": "code",
   "execution_count": 3,
   "metadata": {},
   "outputs": [],
   "source": [
    "import sys\n",
    "import os\n",
    "from model.model_utils import ModelUtils\n",
    "from model.dataset import Dataset\n",
    "from model.model import FatLeNet5, Model\n",
    "from hw2.utils import DatasetUtils\n",
    "from hw2.config import Hw2Config\n",
    "\n",
    "DATASET_ROOT  = os.path.abspath(os.path.join(__file__, \"..\", \"..\", \"..\", \"homework2_Dataset\"))\n",
    "TRAIN_DATASET = os.path.join(DATASET_ROOT, \"train_dataset\")\n",
    "TEST_DATASET  = os.path.join(DATASET_ROOT, \"test_dataset\")\n",
    "TRAIN_CSV     = os.path.join(DATASET_ROOT, \"train.csv\")\n",
    "TEST_CSV      = os.path.join(DATASET_ROOT, \"test.csv\")"
   ]
  },
  {
   "cell_type": "code",
   "execution_count": null,
   "metadata": {},
   "outputs": [],
   "source": [
    "config = Hw2Config()\n",
    "config.display()"
   ]
  },
  {
   "cell_type": "code",
   "execution_count": null,
   "metadata": {},
   "outputs": [],
   "source": [
    "df, cat = DatasetUtils.load_csv(TRAIN_CSV, TRAIN_DATASET)\n",
    "datasets = Dataset.split(df, split_ratio=[0.7, 0.15], config=config)\n",
    "utils = ModelUtils(model=Model(config), config=config)\n",
    "path = utils.train(datasets, epochs=100)\n",
    "ModelUtils.plot_history(path, utils.root)"
   ]
  }
 ],
 "metadata": {
  "interpreter": {
   "hash": "fc7f54debfa0ced2642815502d19580d9cc5faeb3690fcabf793ce32f40109c8"
  },
  "kernelspec": {
   "display_name": "Python 3.8.12 ('torch')",
   "language": "python",
   "name": "python3"
  },
  "language_info": {
   "codemirror_mode": {
    "name": "ipython",
    "version": 3
   },
   "file_extension": ".py",
   "mimetype": "text/x-python",
   "name": "python",
   "nbconvert_exporter": "python",
   "pygments_lexer": "ipython3",
   "version": "3.8.12"
  },
  "orig_nbformat": 4
 },
 "nbformat": 4,
 "nbformat_minor": 2
}
